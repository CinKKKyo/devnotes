{
 "cells": [
  {
   "cell_type": "markdown",
   "metadata": {},
   "source": [
    "> $X$ is a **determinantal point process** on $\\Lambda$ with kernel $K$ if it is a simple point process on $\\Lambda$ with a joint distribution function"
   ]
  },
  {
   "cell_type": "markdown",
   "metadata": {
    "collapsed": false
   },
   "source": [
    "$$\n",
    "p(x_1,...x_n) = det(K(x_i,x_j)_{1\\leq{i},j\\leq{n}})\n",
    "$$"
   ]
  },
  {
   "cell_type": "markdown",
   "metadata": {},
   "source": [
    "# Algorithm 1. Sampling from a DPP (Hough et al.)"
   ]
  },
  {
   "cell_type": "code",
   "execution_count": 7,
   "metadata": {
    "collapsed": false
   },
   "outputs": [
    {
     "data": {
      "text/plain": [
       "rand (generic function with 36 methods)"
      ]
     },
     "execution_count": 7,
     "metadata": {},
     "output_type": "execute_result"
    }
   ],
   "source": [
    "function Base.rand{S<:Real,T}(L::Base.LinAlg.Eigen{S,T})\n",
    "    N = length(L.values)\n",
    "    J = Int[]\n",
    "    for n=1:N\n",
    "        Lambda = L.values[n]\n",
    "        rand() < Lambda/(Lambda+1) && push!(J, n)\n",
    "    end\n",
    "end"
   ]
  },
  {
   "cell_type": "code",
   "execution_count": null,
   "metadata": {
    "collapsed": true
   },
   "outputs": [],
   "source": []
  }
 ],
 "metadata": {
  "kernelspec": {
   "display_name": "Julia 0.4.1",
   "language": "julia",
   "name": "julia-0.4"
  },
  "language_info": {
   "file_extension": ".jl",
   "mimetype": "application/julia",
   "name": "julia",
   "version": "0.4.1"
  }
 },
 "nbformat": 4,
 "nbformat_minor": 0
}
